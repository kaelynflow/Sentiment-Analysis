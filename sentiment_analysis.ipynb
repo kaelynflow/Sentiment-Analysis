{
 "cells": [
  {
   "cell_type": "markdown",
   "metadata": {},
   "source": [
    "## Introduction"
   ]
  },
  {
   "cell_type": "markdown",
   "metadata": {},
   "source": [
    "In this project, we aim to use sentiment analysis predict a review's rating based on the comment text. Specifically, we use data scraped from [boardgamegeek.com](https://boardgamegeek.com/) consisting of reviews for board games. \n",
    "\n",
    "Each row of the data is a review, containing the board game's product id, the reviewer's user id, a 1-10 rating, and a comment. Comments with fewer than three characters were removed, as were the vast majority of non-English comments.\n",
    "\n",
    "We build a few predictive models, of increasing sophistication, to estimate ratings based on input derived from only the comments."
   ]
  },
  {
   "cell_type": "markdown",
   "metadata": {},
   "source": [
    "## Import and Basic Cleaning"
   ]
  },
  {
   "cell_type": "code",
   "execution_count": 1,
   "metadata": {},
   "outputs": [],
   "source": [
    "import matplotlib\n",
    "import numpy as np\n",
    "import pandas as pd\n",
    "import pickle\n",
    "import re\n",
    "\n",
    "from matplotlib import pyplot as plt\n",
    "from sklearn import linear_model, neural_network, preprocessing\n",
    "from sklearn.metrics import mean_squared_error, r2_score\n",
    "\n",
    "%matplotlib inline"
   ]
  },
  {
   "cell_type": "markdown",
   "metadata": {},
   "source": [
    "We first read the data into dataframes, and rename the columns with a standard naming convention. Then we do an initial cleanup of the data by removing a small number of reviews that have rating values of less than 1, which are invalid."
   ]
  },
  {
   "cell_type": "code",
   "execution_count": 2,
   "metadata": {},
   "outputs": [],
   "source": [
    "### read data into pandas DataFrame\n",
    "sample_df = pd.read_csv('data/boardgame-comments-sample.csv', header=0)\n",
    "\n",
    "### the full training set is over Github size limit, so have to load in chunks\n",
    "full_df_1  = pd.read_csv('data/boardgame-comments-english-part1.csv', header=0)\n",
    "full_df_2  = pd.read_csv('data/boardgame-comments-english-part2.csv', header=0)\n",
    "full_df_3  = pd.read_csv('data/boardgame-comments-english-part3.csv', header=0)\n",
    "\n",
    "full_df = pd.concat([full_df_1, full_df_2, full_df_3], axis=0)\n",
    "\n",
    "del full_df_1, full_df_2, full_df_3"
   ]
  },
  {
   "cell_type": "code",
   "execution_count": 3,
   "metadata": {},
   "outputs": [],
   "source": [
    "### rename columns\n",
    "sample_df = sample_df.rename({'rater_id':'rater_id',\n",
    "                              'gameID':'game_id',\n",
    "                              'rating':'rating',\n",
    "                              'comment':'comment'\n",
    "                             },\n",
    "                             axis=1\n",
    "                            )\n",
    "\n",
    "full_df = full_df.rename({'rater_id':'rater_id',\n",
    "                          'gameID':'game_id',\n",
    "                          'rating':'rating',\n",
    "                          'comment':'comment'\n",
    "                             },\n",
    "                             axis=1\n",
    "                            )"
   ]
  },
  {
   "cell_type": "code",
   "execution_count": 4,
   "metadata": {},
   "outputs": [],
   "source": [
    "### remove rows with invalid ratings of less than 1\n",
    "sample_df = sample_df.loc[sample_df['rating'].round(decimals=1) >= 1.]\n",
    "full_df = full_df.loc[full_df['rating'].round(decimals=1) >= 1.]"
   ]
  },
  {
   "cell_type": "markdown",
   "metadata": {},
   "source": [
    "## Initial Data Exploration"
   ]
  },
  {
   "cell_type": "code",
   "execution_count": 5,
   "metadata": {},
   "outputs": [
    {
     "data": {
      "text/html": [
       "<div>\n",
       "<style scoped>\n",
       "    .dataframe tbody tr th:only-of-type {\n",
       "        vertical-align: middle;\n",
       "    }\n",
       "\n",
       "    .dataframe tbody tr th {\n",
       "        vertical-align: top;\n",
       "    }\n",
       "\n",
       "    .dataframe thead th {\n",
       "        text-align: right;\n",
       "    }\n",
       "</style>\n",
       "<table border=\"1\" class=\"dataframe\">\n",
       "  <thead>\n",
       "    <tr style=\"text-align: right;\">\n",
       "      <th></th>\n",
       "      <th>rater_id</th>\n",
       "      <th>game_id</th>\n",
       "      <th>rating</th>\n",
       "      <th>comment</th>\n",
       "    </tr>\n",
       "  </thead>\n",
       "  <tbody>\n",
       "    <tr>\n",
       "      <th>0</th>\n",
       "      <td>25308</td>\n",
       "      <td>37111</td>\n",
       "      <td>8.5</td>\n",
       "      <td>++++ Thematic +++ Bluff - Many randomness   I ...</td>\n",
       "    </tr>\n",
       "    <tr>\n",
       "      <th>1</th>\n",
       "      <td>54313</td>\n",
       "      <td>12</td>\n",
       "      <td>8.0</td>\n",
       "      <td>\"well, that ugly artwork certainly helped imme...</td>\n",
       "    </tr>\n",
       "    <tr>\n",
       "      <th>2</th>\n",
       "      <td>38165</td>\n",
       "      <td>50</td>\n",
       "      <td>8.0</td>\n",
       "      <td>LOVE this game!  If only the GF would play it ...</td>\n",
       "    </tr>\n",
       "    <tr>\n",
       "      <th>3</th>\n",
       "      <td>56936</td>\n",
       "      <td>1198</td>\n",
       "      <td>5.0</td>\n",
       "      <td>SET is a good game, in small doses (in my case...</td>\n",
       "    </tr>\n",
       "    <tr>\n",
       "      <th>4</th>\n",
       "      <td>47675</td>\n",
       "      <td>164153</td>\n",
       "      <td>6.0</td>\n",
       "      <td>So much better than Descent. Better theme, imp...</td>\n",
       "    </tr>\n",
       "    <tr>\n",
       "      <th>5</th>\n",
       "      <td>94529</td>\n",
       "      <td>31260</td>\n",
       "      <td>8.0</td>\n",
       "      <td>Very tense and fun and I love pondering my str...</td>\n",
       "    </tr>\n",
       "    <tr>\n",
       "      <th>6</th>\n",
       "      <td>122420</td>\n",
       "      <td>320</td>\n",
       "      <td>6.0</td>\n",
       "      <td>A classic.</td>\n",
       "    </tr>\n",
       "    <tr>\n",
       "      <th>7</th>\n",
       "      <td>55342</td>\n",
       "      <td>161970</td>\n",
       "      <td>4.5</td>\n",
       "      <td>rating based on 2 player game.</td>\n",
       "    </tr>\n",
       "    <tr>\n",
       "      <th>8</th>\n",
       "      <td>147851</td>\n",
       "      <td>13</td>\n",
       "      <td>8.0</td>\n",
       "      <td>A good game, but sometimes the dice are agains...</td>\n",
       "    </tr>\n",
       "    <tr>\n",
       "      <th>9</th>\n",
       "      <td>171066</td>\n",
       "      <td>13291</td>\n",
       "      <td>7.0</td>\n",
       "      <td>Same rating as base game. New characters are g...</td>\n",
       "    </tr>\n",
       "    <tr>\n",
       "      <th>10</th>\n",
       "      <td>96948</td>\n",
       "      <td>31260</td>\n",
       "      <td>7.5</td>\n",
       "      <td>Great game but not sure yet how much I like it...</td>\n",
       "    </tr>\n",
       "    <tr>\n",
       "      <th>11</th>\n",
       "      <td>70621</td>\n",
       "      <td>12493</td>\n",
       "      <td>9.5</td>\n",
       "      <td>Great game and very epic with lots of drama an...</td>\n",
       "    </tr>\n",
       "    <tr>\n",
       "      <th>12</th>\n",
       "      <td>41393</td>\n",
       "      <td>176189</td>\n",
       "      <td>8.0</td>\n",
       "      <td>Knight Level pledge (lots of extra heroes and ...</td>\n",
       "    </tr>\n",
       "    <tr>\n",
       "      <th>13</th>\n",
       "      <td>22801</td>\n",
       "      <td>91536</td>\n",
       "      <td>9.0</td>\n",
       "      <td>Looking forward to this one, I hope it'll be g...</td>\n",
       "    </tr>\n",
       "    <tr>\n",
       "      <th>14</th>\n",
       "      <td>88133</td>\n",
       "      <td>105551</td>\n",
       "      <td>9.0</td>\n",
       "      <td>Nice worker placement concept, top material, l...</td>\n",
       "    </tr>\n",
       "    <tr>\n",
       "      <th>15</th>\n",
       "      <td>110653</td>\n",
       "      <td>483</td>\n",
       "      <td>8.0</td>\n",
       "      <td>A classic great game. Easy to learn, difficult...</td>\n",
       "    </tr>\n",
       "    <tr>\n",
       "      <th>16</th>\n",
       "      <td>164768</td>\n",
       "      <td>71721</td>\n",
       "      <td>7.0</td>\n",
       "      <td>Very good solitaire play. Looking forward to t...</td>\n",
       "    </tr>\n",
       "    <tr>\n",
       "      <th>17</th>\n",
       "      <td>29353</td>\n",
       "      <td>181</td>\n",
       "      <td>4.0</td>\n",
       "      <td>This game used to be fun when I played it as a...</td>\n",
       "    </tr>\n",
       "    <tr>\n",
       "      <th>18</th>\n",
       "      <td>65970</td>\n",
       "      <td>1927</td>\n",
       "      <td>2.0</td>\n",
       "      <td>REALLY LONG for what it is. This game should t...</td>\n",
       "    </tr>\n",
       "    <tr>\n",
       "      <th>19</th>\n",
       "      <td>172882</td>\n",
       "      <td>29368</td>\n",
       "      <td>8.0</td>\n",
       "      <td>A lot of great zombie fighting fun.  B-movie t...</td>\n",
       "    </tr>\n",
       "  </tbody>\n",
       "</table>\n",
       "</div>"
      ],
      "text/plain": [
       "    rater_id  game_id  rating  \\\n",
       "0      25308    37111     8.5   \n",
       "1      54313       12     8.0   \n",
       "2      38165       50     8.0   \n",
       "3      56936     1198     5.0   \n",
       "4      47675   164153     6.0   \n",
       "5      94529    31260     8.0   \n",
       "6     122420      320     6.0   \n",
       "7      55342   161970     4.5   \n",
       "8     147851       13     8.0   \n",
       "9     171066    13291     7.0   \n",
       "10     96948    31260     7.5   \n",
       "11     70621    12493     9.5   \n",
       "12     41393   176189     8.0   \n",
       "13     22801    91536     9.0   \n",
       "14     88133   105551     9.0   \n",
       "15    110653      483     8.0   \n",
       "16    164768    71721     7.0   \n",
       "17     29353      181     4.0   \n",
       "18     65970     1927     2.0   \n",
       "19    172882    29368     8.0   \n",
       "\n",
       "                                              comment  \n",
       "0   ++++ Thematic +++ Bluff - Many randomness   I ...  \n",
       "1   \"well, that ugly artwork certainly helped imme...  \n",
       "2   LOVE this game!  If only the GF would play it ...  \n",
       "3   SET is a good game, in small doses (in my case...  \n",
       "4   So much better than Descent. Better theme, imp...  \n",
       "5   Very tense and fun and I love pondering my str...  \n",
       "6                                         A classic.   \n",
       "7                      rating based on 2 player game.  \n",
       "8   A good game, but sometimes the dice are agains...  \n",
       "9   Same rating as base game. New characters are g...  \n",
       "10  Great game but not sure yet how much I like it...  \n",
       "11  Great game and very epic with lots of drama an...  \n",
       "12  Knight Level pledge (lots of extra heroes and ...  \n",
       "13  Looking forward to this one, I hope it'll be g...  \n",
       "14  Nice worker placement concept, top material, l...  \n",
       "15  A classic great game. Easy to learn, difficult...  \n",
       "16  Very good solitaire play. Looking forward to t...  \n",
       "17  This game used to be fun when I played it as a...  \n",
       "18  REALLY LONG for what it is. This game should t...  \n",
       "19  A lot of great zombie fighting fun.  B-movie t...  "
      ]
     },
     "execution_count": 5,
     "metadata": {},
     "output_type": "execute_result"
    }
   ],
   "source": [
    "sample_df.head(20)"
   ]
  },
  {
   "cell_type": "markdown",
   "metadata": {},
   "source": [
    "### Comment Length Exploration"
   ]
  },
  {
   "cell_type": "markdown",
   "metadata": {},
   "source": [
    "To begin exploring the dataset, we first look at the distribution of the length of comments in characters. We will investigate summary statistics and histograms to get a feel for the data."
   ]
  },
  {
   "cell_type": "code",
   "execution_count": 6,
   "metadata": {},
   "outputs": [
    {
     "data": {
      "text/plain": [
       "count    841643.000000\n",
       "mean        220.597193\n",
       "std         310.868939\n",
       "min           3.000000\n",
       "25%          68.000000\n",
       "50%         136.000000\n",
       "75%         259.000000\n",
       "max       26544.000000\n",
       "Name: comment, dtype: float64"
      ]
     },
     "execution_count": 6,
     "metadata": {},
     "output_type": "execute_result"
    }
   ],
   "source": [
    "#statistics on comment length \n",
    "full_df['comment'].str.len().describe()"
   ]
  },
  {
   "cell_type": "code",
   "execution_count": 7,
   "metadata": {},
   "outputs": [
    {
     "data": {
      "image/png": "[encoded data removed]",
      "text/plain": [
       "<Figure size 432x288 with 1 Axes>"
      ]
     },
     "metadata": {
      "needs_background": "light"
     },
     "output_type": "display_data"
    }
   ],
   "source": [
    "#histogram of comment length cut off at 1000 chars\n",
    "plt.hist(full_df.loc[full_df['comment'].str.len() < 1000,'comment'].str.len(), bins=20);"
   ]
  },
  {
   "cell_type": "markdown",
   "metadata": {},
   "source": [
    "The comment lengths appear to follow a log-normal distribution, which we confirm below by looking at a histogram of the logarithms of comment lengths."
   ]
  },
  {
   "cell_type": "code",
   "execution_count": 8,
   "metadata": {},
   "outputs": [
    {
     "data": {
      "image/png": "[encoded data removed]",
      "text/plain": [
       "<Figure size 432x288 with 1 Axes>"
      ]
     },
     "metadata": {
      "needs_background": "light"
     },
     "output_type": "display_data"
    }
   ],
   "source": [
    "#histogram of log-transformed comment length\n",
    "plt.hist(np.log(full_df['comment'].str.len()), bins=20);"
   ]
  },
  {
   "cell_type": "markdown",
   "metadata": {},
   "source": [
    "### Rating Exploration"
   ]
  },
  {
   "cell_type": "markdown",
   "metadata": {},
   "source": [
    "Next, we take a look at the distribution of ratings."
   ]
  },
  {
   "cell_type": "code",
   "execution_count": 9,
   "metadata": {},
   "outputs": [
    {
     "data": {
      "text/plain": [
       "count    841643.000000\n",
       "mean          7.201706\n",
       "std           1.693762\n",
       "min           1.000000\n",
       "25%           6.000000\n",
       "50%           7.100000\n",
       "75%           8.000000\n",
       "max          10.000000\n",
       "Name: rating, dtype: float64"
      ]
     },
     "execution_count": 9,
     "metadata": {},
     "output_type": "execute_result"
    }
   ],
   "source": [
    "full_df['rating'].describe() #statistics for ratings"
   ]
  },
  {
   "cell_type": "code",
   "execution_count": 10,
   "metadata": {},
   "outputs": [
    {
     "data": {
      "text/plain": [
       "7.0"
      ]
     },
     "execution_count": 10,
     "metadata": {},
     "output_type": "execute_result"
    }
   ],
   "source": [
    "full_df['rating'].mode().values[0] #mode of ratings"
   ]
  },
  {
   "cell_type": "code",
   "execution_count": 11,
   "metadata": {
    "scrolled": true
   },
   "outputs": [
    {
     "data": {
      "image/png": "[encoded data removed]",
      "text/plain": [
       "<Figure size 432x288 with 1 Axes>"
      ]
     },
     "metadata": {
      "needs_background": "light"
     },
     "output_type": "display_data"
    }
   ],
   "source": [
    "plt.hist(full_df['rating'], bins=9); #histogram of ratings"
   ]
  },
  {
   "cell_type": "markdown",
   "metadata": {},
   "source": [
    "The ratings have a left-skewed distribution. However, note that it has a mode of 7.0, median of 7.1, and mean of 7.2, violating the usual rule of thumb that $mean < median < mode$ for a left-skewed distribution. In other words, despite the left-hand tail, the distribution is still heavy on the right side."
   ]
  },
  {
   "cell_type": "markdown",
   "metadata": {},
   "source": [
    "### Comment Length and Rating Relationship"
   ]
  },
  {
   "cell_type": "markdown",
   "metadata": {},
   "source": [
    "One simple predictor of rating could be comment length; this would be a very easy feature to extract as input for a model. We do a preliminary investigation to see if this is worth using, plotting the variables against each other and getting a linear best-fit in order to understand their relation (if any)."
   ]
  },
  {
   "cell_type": "code",
   "execution_count": 12,
   "metadata": {},
   "outputs": [
    {
     "data": {
      "image/png": "[encoded data removed]",
      "text/plain": [
       "<Figure size 432x288 with 1 Axes>"
      ]
     },
     "metadata": {
      "needs_background": "light"
     },
     "output_type": "display_data"
    }
   ],
   "source": [
    "#plot rating against comment length\n",
    "plt.scatter(full_df['comment'].str.len(), full_df['rating']);\n",
    "plt.xlabel('Comment Length');\n",
    "plt.ylabel('rating');"
   ]
  },
  {
   "cell_type": "code",
   "execution_count": 13,
   "metadata": {},
   "outputs": [],
   "source": [
    "#find coefficients for least squares linear fit\n",
    "comm_rating_fit = np.polyfit(full_df['comment'].str.len(), full_df['rating'], 1)"
   ]
  },
  {
   "cell_type": "code",
   "execution_count": 14,
   "metadata": {},
   "outputs": [
    {
     "name": "stdout",
     "output_type": "stream",
     "text": [
      "rating ≈ -1.601164966434114e-05 * comment_length + 7.205238324220927\n"
     ]
    }
   ],
   "source": [
    "print('rating ≈ ' + str(comm_rating_fit[0]) + ' * comment_length + ' + str(comm_rating_fit[1]))"
   ]
  },
  {
   "cell_type": "markdown",
   "metadata": {},
   "source": [
    "Unfortunately, it seems like—though having extremely long comments tends to imply higher ratings—in the non-outlier data there is virtually no relationship (the coefficient for comment length in the linear fit is on the order of $10^{-5}$), so we shouldn't invest much in pursuing this."
   ]
  },
  {
   "cell_type": "markdown",
   "metadata": {},
   "source": [
    "### Use of Obvious Keywords"
   ]
  },
  {
   "cell_type": "markdown",
   "metadata": {},
   "source": [
    "Another intuitive approach would be to use keywords with strong positive or negative connotations, looking for whether they appear in comments and using this to predict the rating. Before creating a model, we will see if the appearance of such keywords in a comment is in fact related to its rating. We use the arbitrarily selected positive keywords 'great', 'amazing', and 'fantastic', and the negative keywords 'awful', 'terrible', and 'worst'."
   ]
  },
  {
   "cell_type": "code",
   "execution_count": 15,
   "metadata": {},
   "outputs": [],
   "source": [
    "### make boolean arrays indicating which rows' comments include \n",
    "### positive-sentiment keywords 'great', 'amazing', 'fantastic'\n",
    "great_bool = full_df['comment'].str.contains('great', case=False)\n",
    "amaz_bool = full_df['comment'].str.contains('amazing', case=False)\n",
    "fant_bool = full_df['comment'].str.contains('fantastic', case=False)\n",
    "\n",
    "### use pandas array OR operator, |, to make boolean array indicating\n",
    "### comments containing any positive word\n",
    "pos_bool = great_bool | amaz_bool | fant_bool;"
   ]
  },
  {
   "cell_type": "markdown",
   "metadata": {},
   "source": [
    "We can use the boolean series `pos_bool` defined above, which indicates which comments contain the positive keywords, to look at statistics for ratings that have keyword-containing comments versus those that don't."
   ]
  },
  {
   "cell_type": "code",
   "execution_count": 16,
   "metadata": {},
   "outputs": [
    {
     "name": "stdout",
     "output_type": "stream",
     "text": [
      "Ratings of Comments Containing Positive Keywords\n",
      "count    141943.000000\n",
      "mean          7.827515\n",
      "std           1.406630\n",
      "min           1.000000\n",
      "25%           7.000000\n",
      "50%           8.000000\n",
      "75%           9.000000\n",
      "max          10.000000\n",
      "Name: rating, dtype: float64\n",
      "\n",
      "Ratings of Comments Not Containing Positive Keywords\n",
      "count    699700.000000\n",
      "mean          7.074753\n",
      "std           1.718680\n",
      "min           1.000000\n",
      "25%           6.000000\n",
      "50%           7.000000\n",
      "75%           8.000000\n",
      "max          10.000000\n",
      "Name: rating, dtype: float64\n"
     ]
    },
    {
     "data": {
      "image/png": "[encoded data removed]",
      "text/plain": [
       "<Figure size 432x720 with 2 Axes>"
      ]
     },
     "metadata": {
      "needs_background": "light"
     },
     "output_type": "display_data"
    }
   ],
   "source": [
    "### statistics and histogram of ratings for comments\n",
    "### that contain or don't contain positive keywords\n",
    "print('Ratings of Comments Containing Positive Keywords')\n",
    "print(full_df.loc[pos_bool, 'rating'].describe(), end='\\n\\n')\n",
    "print('Ratings of Comments Not Containing Positive Keywords')\n",
    "print(full_df.loc[~pos_bool, 'rating'].describe())\n",
    "fig = plt.figure(figsize=(6, 10));\n",
    "ax = fig.add_subplot(2, 1, 1);\n",
    "ax.hist(full_df.loc[pos_bool, 'rating']);\n",
    "ax.set_title('Ratings of Comments Containing Positive Keywords');\n",
    "ax = fig.add_subplot(2, 1, 2);\n",
    "plt.hist(full_df.loc[~pos_bool, 'rating']);\n",
    "ax.set_title('Ratings of Comments Not Containing Positive Keywords');"
   ]
  },
  {
   "cell_type": "markdown",
   "metadata": {},
   "source": [
    "The comments containing positive keywords have rating mean and median significantly higher than those that don't, and much fewer very low ratings.\n",
    "\n",
    "We now repeat the same investigation for negative keywords."
   ]
  },
  {
   "cell_type": "code",
   "execution_count": 17,
   "metadata": {},
   "outputs": [],
   "source": [
    "#make boolean arrays indicating which rows' comments include \n",
    "#negative-sentiment words 'awful', 'terrible', 'worst'\n",
    "awful_bool = full_df['comment'].str.contains('awful', case=False)\n",
    "terr_bool = full_df['comment'].str.contains('terrible', case=False)\n",
    "worst_bool = full_df['comment'].str.contains('worst', case=False)\n",
    "\n",
    "#make boolean array for comments containing any \n",
    "neg_bool = awful_bool | terr_bool | worst_bool;"
   ]
  },
  {
   "cell_type": "code",
   "execution_count": 18,
   "metadata": {},
   "outputs": [
    {
     "name": "stdout",
     "output_type": "stream",
     "text": [
      "count    8010.000000\n",
      "mean        5.771020\n",
      "std         2.401574\n",
      "min         1.000000\n",
      "25%         4.000000\n",
      "50%         6.000000\n",
      "75%         7.500000\n",
      "max        10.000000\n",
      "Name: rating, dtype: float64\n"
     ]
    },
    {
     "data": {
      "image/png": "[encoded data removed]",
      "text/plain": [
       "<Figure size 432x288 with 1 Axes>"
      ]
     },
     "metadata": {
      "needs_background": "light"
     },
     "output_type": "display_data"
    }
   ],
   "source": [
    "#statistics and histogram of ratings for comments that\n",
    "#contained negative words\n",
    "print(full_df.loc[neg_bool, 'rating'].describe())\n",
    "plt.hist(full_df.loc[neg_bool, 'rating']);"
   ]
  },
  {
   "cell_type": "code",
   "execution_count": 19,
   "metadata": {},
   "outputs": [
    {
     "name": "stdout",
     "output_type": "stream",
     "text": [
      "count    833633.000000\n",
      "mean          7.215453\n",
      "std           1.679621\n",
      "min           1.000000\n",
      "25%           6.000000\n",
      "50%           7.200000\n",
      "75%           8.000000\n",
      "max          10.000000\n",
      "Name: rating, dtype: float64\n"
     ]
    },
    {
     "data": {
      "image/png": "[encoded data removed]",
      "text/plain": [
       "<Figure size 432x288 with 1 Axes>"
      ]
     },
     "metadata": {
      "needs_background": "light"
     },
     "output_type": "display_data"
    }
   ],
   "source": [
    "#statistics and histogram of ratings for comments that\n",
    "#didn't contain negative words\n",
    "print(full_df.loc[~neg_bool, 'rating'].describe())\n",
    "plt.hist(full_df.loc[~neg_bool, 'rating']);"
   ]
  },
  {
   "cell_type": "markdown",
   "metadata": {},
   "source": [
    "There is also a significant difference here. As an aside, we can notice that negative keywords discriminate better than positive."
   ]
  },
  {
   "cell_type": "markdown",
   "metadata": {},
   "source": [
    "## Crude Keyword Model"
   ]
  },
  {
   "cell_type": "markdown",
   "metadata": {},
   "source": [
    "Having determined that keyword appearances in a comment for our chosen keywords is in fact meaningful for the comment's corresponding rating, we will make a first model using keywords (though, be warned, it will have the finesse of a sledgehammer). In particular, we will partition comments into four classes: those that contain mostly positive keywords, those that contain mostly negative keywords, those with an equal number of positive and negative keywords, and those containing neither positive nor negative keywords. \n",
    "\n",
    "The model will, given an input comment, determine the class of the comment and assign the mean score for training set comments of that class. We create the `crude_model` python class to encapsulate the model."
   ]
  },
  {
   "cell_type": "code",
   "execution_count": 20,
   "metadata": {},
   "outputs": [],
   "source": [
    "class crude_model(object):\n",
    "    \"\"\"Class that encapsulates a training data set and provides a \n",
    "    function that predicitively models rating based on input\n",
    "    comment text.\"\"\"\n",
    "    \n",
    "    def __init__(self, train_dat=None):\n",
    "        if train_dat is not None:\n",
    "            self.fit(train_dat)\n",
    "            \n",
    "    ### sets the training data\n",
    "    def fit(self, train_dat):\n",
    "        self.train_dat = train_dat\n",
    "        self.train_dat['comment'] = self.train_dat['comment'].str.lower()\n",
    "        \n",
    "        ### make boolean array for location of positive keywords\n",
    "        great_bool = train_dat['comment'].str.contains('great', case=False)\n",
    "        amaz_bool = train_dat['comment'].str.contains('amazing', case=False)\n",
    "        fant_bool = train_dat['comment'].str.contains('fantastic', case=False)\n",
    "        self.pos_bool = great_bool | amaz_bool | fant_bool;\n",
    "        \n",
    "        ### make boolean array for location of negative keywords\n",
    "        awful_bool = train_dat['comment'].str.contains('awful', case=False)\n",
    "        terr_bool = train_dat['comment'].str.contains('terrible', case=False)\n",
    "        worst_bool = train_dat['comment'].str.contains('worst', case=False)\n",
    "        self.neg_bool = awful_bool | terr_bool | worst_bool;      \n",
    "        \n",
    "        ### separate training set into positive/negative/neutral, get means\n",
    "        pos_dat = self.train_dat.loc[self.pos_bool, 'rating']\n",
    "        self.pos_mean = pos_dat.mean()\n",
    "        del pos_dat\n",
    "        neg_dat = self.train_dat.loc[self.neg_bool, 'rating']\n",
    "        self.neg_mean = neg_dat.mean()\n",
    "        del neg_dat\n",
    "        neutral_dat = self.train_dat.loc[~self.pos_bool & ~self.neg_bool, 'rating']\n",
    "        self.neutral_mean = neutral_dat.mean()\n",
    "        del neutral_dat\n",
    "        self.all_mean = self.train_dat['rating'].mean()\n",
    "    \n",
    "    ### Predicts 1-10 rating (float) given comment rating (str)\n",
    "    def predict(self, comment):\n",
    "        comment = comment.lower()\n",
    "        pos_count = sum(comment.count(wd) for wd in ('great', 'amazing', 'fantastic'))\n",
    "        neg_count = sum(comment.count(wd) for wd in ('awful', 'terrible', 'worst'))\n",
    "        if neg_count and pos_count:\n",
    "            prediction = self.all_mean\n",
    "        elif pos_count:\n",
    "            prediction = self.pos_mean\n",
    "        elif neg_count:\n",
    "            prediction = self.neg_mean\n",
    "        else:\n",
    "            prediction = self.neutral_mean\n",
    "        return prediction\n",
    "    \n",
    "    ### Get R^2 score for a test/validation set\n",
    "    def score(self, comments, ratings, sample_weight=None):\n",
    "        y_pred = [self.predict(comment) for comment in comments]\n",
    "        y_pred = np.array(y_pred)\n",
    "        return r2_score(ratings, y_pred, sample_weight=sample_weight)"
   ]
  },
  {
   "cell_type": "markdown",
   "metadata": {},
   "source": [
    "With the model coded, we now need to split the comments into a training and test set. We shuffle the rows to avoid any bias due to ordering of the data set, and use an 80/20 split."
   ]
  },
  {
   "cell_type": "code",
   "execution_count": 21,
   "metadata": {},
   "outputs": [],
   "source": [
    "### get random train/test split of 80/20\n",
    "np.random.seed(42) #fix random state for reproducability\n",
    "inds = np.random.permutation(full_df.index)\n",
    "test_size = int(np.ceil(0.2 * full_df.shape[0]))\n",
    "test_inds = inds[:test_size]\n",
    "train_inds = inds[test_size:]\n",
    "test_df_2 = full_df.loc[test_inds]\n",
    "train_df = full_df.loc[train_inds]"
   ]
  },
  {
   "cell_type": "code",
   "execution_count": 22,
   "metadata": {},
   "outputs": [
    {
     "name": "stdout",
     "output_type": "stream",
     "text": [
      "<class 'pandas.core.frame.DataFrame'>\n",
      "Int64Index: 168329 entries, 66639 to 823030\n",
      "Data columns (total 4 columns):\n",
      "rater_id    168329 non-null int64\n",
      "game_id     168329 non-null int64\n",
      "rating      168329 non-null float64\n",
      "comment     168329 non-null object\n",
      "dtypes: float64(1), int64(2), object(1)\n",
      "memory usage: 6.4+ MB\n",
      "None\n",
      "\n",
      "<class 'pandas.core.frame.DataFrame'>\n",
      "Int64Index: 673314 entries, 780108 to 121958\n",
      "Data columns (total 4 columns):\n",
      "rater_id    673314 non-null int64\n",
      "game_id     673314 non-null int64\n",
      "rating      673314 non-null float64\n",
      "comment     673314 non-null object\n",
      "dtypes: float64(1), int64(2), object(1)\n",
      "memory usage: 25.7+ MB\n",
      "None\n"
     ]
    }
   ],
   "source": [
    "print(test_df_2.info(), end='\\n\\n')\n",
    "print(train_df.info())"
   ]
  },
  {
   "cell_type": "markdown",
   "metadata": {},
   "source": [
    "We can now train the model."
   ]
  },
  {
   "cell_type": "code",
   "execution_count": 23,
   "metadata": {},
   "outputs": [],
   "source": [
    "mdl_tst = crude_model(train_df) #train crude model of training set"
   ]
  },
  {
   "cell_type": "code",
   "execution_count": 24,
   "metadata": {},
   "outputs": [],
   "source": [
    "actual_srs = test_df_2['rating'] #series of real ratings\n",
    "predict_srs = test_df_2['comment'].apply(mdl_tst.predict) #series of predicted ratings"
   ]
  },
  {
   "cell_type": "markdown",
   "metadata": {},
   "source": [
    "Finally, we evaluate our model's performance on the test set. We will provide the coefficient of determination $R^2$ and the root mean squared error. Additionally, we find the fraction of positive (above median) ratings that were predicted above median by the model (i.e. the sensitivity), the the fraction of negative (below median) ratings that were predicted below median by the model (i.e. the specificity), and the total accuracy of predicting over/under the median rating."
   ]
  },
  {
   "cell_type": "code",
   "execution_count": 25,
   "metadata": {},
   "outputs": [
    {
     "name": "stdout",
     "output_type": "stream",
     "text": [
      "R^2:  0.03396477804269726\n",
      "RMSE: 1.6756858518056033\n"
     ]
    }
   ],
   "source": [
    "print('R^2:  ' + str(mdl_tst.score(test_df_2['comment'], actual_srs)))\n",
    "print('RMSE: ' + str(np.sqrt(mean_squared_error(actual_srs, predict_srs))))"
   ]
  },
  {
   "cell_type": "code",
   "execution_count": 26,
   "metadata": {},
   "outputs": [
    {
     "name": "stdout",
     "output_type": "stream",
     "text": [
      "Sensitivity (true positives rate): 0.6754349193041291\n",
      "Specificity (true negatives rate): 0.5330808930373722\n",
      "Total accuracy: 0.5572895935934985\n"
     ]
    }
   ],
   "source": [
    "### Get boolean series representing whether actual/predicted rating is above median rating\n",
    "actual_binary = (actual_srs > full_df['rating'].median())\n",
    "predict_binary = (predict_srs > full_df['rating'].median())\n",
    "\n",
    "### Get true positive/negative rates and \n",
    "true_pos = (actual_binary & predict_binary).sum() / predict_binary.sum()\n",
    "true_neg = (~actual_binary & ~predict_binary).sum() / (~predict_binary).sum()\n",
    "true_total = ((actual_binary & predict_binary) | (~actual_binary & ~predict_binary)).sum() \n",
    "true_total = true_total / predict_binary.shape[0]\n",
    "\n",
    "print('Sensitivity (true positives rate): ' + str(true_pos))\n",
    "print('Specificity (true negatives rate): ' + str(true_neg))\n",
    "print('Total accuracy: ' + str(true_total))"
   ]
  },
  {
   "cell_type": "markdown",
   "metadata": {},
   "source": [
    "Clearly, this model does not perform well. There are a couple of problems. First, our choice of keywords was made using guesswork, and while they aren't irrelevant, a more empirical approach would probably be useful. Second, the way in which the model maps keyword occurences to ratings is unsophisticated; for example, it can only assign one of four ratings to any comment."
   ]
  },
  {
   "cell_type": "markdown",
   "metadata": {},
   "source": [
    "## Refined Keyword Model"
   ]
  },
  {
   "cell_type": "markdown",
   "metadata": {},
   "source": [
    "Our next step is to create a refined model that is still keyword-based but ameliorates the problems with the crude model we just discussed. \n",
    "\n",
    "To resolve the choice of keywords, we want to find those words that indicate more negative or more positive ratings. We will do this by getting all of the words used in comments (called a _lexicon_), counting the occurences of each word in positive and in negative comments, and then finding the _relative log-odds_ of the word appearing in positive versus negative comments. The log-odds will give a numeric score indicating how negative or positive a word is, with log-odds of zero indicating totally neutral words. We will then take some of the most negative and positive words as our keywords, and use the frequency of occurence of each of these keywords in a comment as our model's input.\n",
    "\n",
    "In order to handle the second issue with the crude model, that we used an unsophisticated algorithm to assign ratings based on keyword occurences, will be solved by using two more sophisticated approaches: linear regression and a feed-forward neural network."
   ]
  },
  {
   "cell_type": "markdown",
   "metadata": {},
   "source": [
    "### Preprocessing and Feature Selection"
   ]
  },
  {
   "cell_type": "markdown",
   "metadata": {},
   "source": [
    "First we need to clean the comments, so that for example punctuation marks are not included in words and capitalization is ignored. We do so by defining the following function."
   ]
  },
  {
   "cell_type": "code",
   "execution_count": 27,
   "metadata": {},
   "outputs": [],
   "source": [
    "def clean_comments(srs):\n",
    "    \"\"\"Transforms a series of strings into a standard form.\n",
    "    \n",
    "    Removes non-alphanumeric characters, deletes markup tags, replaces \n",
    "    dashes/slashes with spaces, and shortens multiple consecutive whitespaces.\n",
    "    \n",
    "    Args:\n",
    "        srs: a pandas Series with string values.\n",
    "    \n",
    "    Returns:\n",
    "        A Series containing strings in standardized form.\n",
    "    \"\"\"\n",
    "    markup = re.compile(r\"\\[[^\\]]+\\]\") #regex representing markup tags\n",
    "    non_alpha = re.compile(r\"[^a-zA-Z0-9\\-\\\\\\s]\") #regex representing nonalphabetic chars\n",
    "    multi_space = re.compile(\"\\s+\") #regex representing multiple spaces\n",
    "    \n",
    "    clean_srs = srs.str.replace(markup, \"\") #delete markup\n",
    "    clean_srs = clean_srs.str.replace(non_alpha, \"\") #delete nonalphabetic chars\n",
    "    clean_srs = clean_srs.str.replace(\"\\\\\", \" \") #replace slashes with spaces\n",
    "    clean_srs = clean_srs.str.replace(\"-\", \" \") #replace dashes with spaces\n",
    "    clean_srs = clean_srs.str.replace(multi_space, \" \") #trim multiple spaces\n",
    "    \n",
    "    clean_srs = clean_srs.str.strip() #strip leading/trailing whitespace\n",
    "    clean_srs = clean_srs.str.lower() #change to lower case\n",
    "    return clean_srs"
   ]
  },
  {
   "cell_type": "code",
   "execution_count": 28,
   "metadata": {},
   "outputs": [
    {
     "data": {
      "text/plain": [
       "66639     good unique take on the hidden role games the ...\n",
       "71481     a neat social deduction game with multiple tea...\n",
       "93026     good hidden roles werewolf style game that can...\n",
       "696037    overall i hate mafiawerewolf but this version ...\n",
       "297346    fun social deduction exercise that gets merrie...\n",
       "489803    this is really part of the base set and i woul...\n",
       "416429                                  we love the builder\n",
       "493452    every carc original game gets played with this...\n",
       "151670        must have should be included in the base game\n",
       "429820            probably the greatest expansion ever made\n",
       "342292           the more the merrier better for the cylons\n",
       "234440    great game mechanics are really simple but the...\n",
       "771182    i love this game only hit the table on one occ...\n",
       "550400    love the tension and theme i played with mostl...\n",
       "668905    puntuacion oca 8 eban 10 seldonita 8 partidas ...\n",
       "419714                                  paranoia everywhere\n",
       "840091    played twice over the weekend still working ou...\n",
       "666775    i have yet to sit down for the tabletop versio...\n",
       "287953    this is another cooperativetraitor game that h...\n",
       "235441                        thought this was a lot of fun\n",
       "Name: comment, dtype: object"
      ]
     },
     "execution_count": 28,
     "metadata": {},
     "output_type": "execute_result"
    }
   ],
   "source": [
    "clean_comments(full_df['comment'].head(20))"
   ]
  },
  {
   "cell_type": "markdown",
   "metadata": {},
   "source": [
    "Next, we need to retrieve a lexicon consisting of all of the words that occurr in the comments. We will use the below function to do so; it can process comments in batches in order to reduce memory overhead."
   ]
  },
  {
   "cell_type": "code",
   "execution_count": 29,
   "metadata": {},
   "outputs": [],
   "source": [
    "def lexicon(srs, batch_size=None, clean=False):\n",
    "    \"\"\"Gets a lexicon of words used in a series of strings.\n",
    "    \n",
    "    Args:\n",
    "        srs: a pandas Series with string values.\n",
    "        batch_size: number of strings to process into the\n",
    "            lexicon at each iteration. If None, then only do\n",
    "            one iteration with all strings.\n",
    "        clean: whether to first apply clean_comments() to srs.\n",
    "    \n",
    "    Returns:\n",
    "        A Set containing all words in the comments.\n",
    "    \"\"\"\n",
    "    ### preprocess comments if necessary\n",
    "    if clean:\n",
    "        srs = clean_comments(srs)\n",
    "        \n",
    "    if batch_size is None:\n",
    "        ### if not using batches, simply concatenate and split\n",
    "        ### all comments at once, then delete duplicates\n",
    "        lex = srs.str.cat(sep=' ').split()\n",
    "        lex = set(lex)\n",
    "    else:\n",
    "        ### if using batches, load in one batch at a time,\n",
    "        ### adding to lexicon and deleting duplicates as it \n",
    "        ### goes to save memory.\n",
    "        lex = set([])\n",
    "        batches = 1 + srs.shape[0] // batch_size\n",
    "        for i in range(batches):\n",
    "            start = batch_size * i\n",
    "            if i < batches - 1:\n",
    "                stop = batch_size * (i + 1)\n",
    "            else:\n",
    "                stop = -1\n",
    "            batch = srs.iloc[start:stop].str.cat(sep=' ')\n",
    "            batch = set(batch.split())\n",
    "            lex = lex.union(batch)\n",
    "    return lex"
   ]
  },
  {
   "cell_type": "markdown",
   "metadata": {},
   "source": [
    "With the `lexicon` function, we can now get the desired lexicon."
   ]
  },
  {
   "cell_type": "code",
   "execution_count": 30,
   "metadata": {},
   "outputs": [],
   "source": [
    "### get lexicon for our dataset\n",
    "lex = list(lexicon(train_df['comment'], batch_size=1024, clean=True)) #get as list\n",
    "lex.sort() #sort alphabetically"
   ]
  },
  {
   "cell_type": "markdown",
   "metadata": {},
   "source": [
    "We now take subsets of the comments, getting positive comments (those with ratings of at least 8) and negative ones (those with ratings below 6). We don't use those with ratings of around 7, since those are fairly neutral (recall that the ratings median is 7.1)."
   ]
  },
  {
   "cell_type": "code",
   "execution_count": 31,
   "metadata": {},
   "outputs": [],
   "source": [
    "### split comments into positive and negative sets\n",
    "pos_df = train_df.loc[train_df['rating'] >= 8]\n",
    "neg_df = train_df.loc[train_df['rating'] <= 6]\n",
    "\n",
    "### get cleaned positive/negative comments\n",
    "comments_pos = clean_comments(pos_df['comment'])\n",
    "comments_neg = clean_comments(neg_df['comment'])"
   ]
  },
  {
   "cell_type": "markdown",
   "metadata": {},
   "source": [
    "We now make a table that counts the occurences of the words in the lexicon in positive and negative comments."
   ]
  },
  {
   "cell_type": "code",
   "execution_count": 32,
   "metadata": {
    "scrolled": true
   },
   "outputs": [
    {
     "data": {
      "text/html": [
       "<div>\n",
       "<style scoped>\n",
       "    .dataframe tbody tr th:only-of-type {\n",
       "        vertical-align: middle;\n",
       "    }\n",
       "\n",
       "    .dataframe tbody tr th {\n",
       "        vertical-align: top;\n",
       "    }\n",
       "\n",
       "    .dataframe thead th {\n",
       "        text-align: right;\n",
       "    }\n",
       "</style>\n",
       "<table border=\"1\" class=\"dataframe\">\n",
       "  <thead>\n",
       "    <tr style=\"text-align: right;\">\n",
       "      <th></th>\n",
       "      <th>positive</th>\n",
       "      <th>negative</th>\n",
       "    </tr>\n",
       "  </thead>\n",
       "  <tbody>\n",
       "    <tr>\n",
       "      <th>0</th>\n",
       "      <td>649</td>\n",
       "      <td>339</td>\n",
       "    </tr>\n",
       "    <tr>\n",
       "      <th>00</th>\n",
       "      <td>21</td>\n",
       "      <td>7</td>\n",
       "    </tr>\n",
       "    <tr>\n",
       "      <th>000</th>\n",
       "      <td>8</td>\n",
       "      <td>0</td>\n",
       "    </tr>\n",
       "    <tr>\n",
       "      <th>0000</th>\n",
       "      <td>1</td>\n",
       "      <td>0</td>\n",
       "    </tr>\n",
       "    <tr>\n",
       "      <th>00000000000000000000000000000000000000000000000000000000000000000000000000000000000000000000000000000000000000000001</th>\n",
       "      <td>0</td>\n",
       "      <td>1</td>\n",
       "    </tr>\n",
       "    <tr>\n",
       "      <th>00000001</th>\n",
       "      <td>0</td>\n",
       "      <td>1</td>\n",
       "    </tr>\n",
       "    <tr>\n",
       "      <th>0001</th>\n",
       "      <td>2</td>\n",
       "      <td>0</td>\n",
       "    </tr>\n",
       "    <tr>\n",
       "      <th>00010</th>\n",
       "      <td>0</td>\n",
       "      <td>1</td>\n",
       "    </tr>\n",
       "    <tr>\n",
       "      <th>000123</th>\n",
       "      <td>1</td>\n",
       "      <td>0</td>\n",
       "    </tr>\n",
       "    <tr>\n",
       "      <th>0002</th>\n",
       "      <td>1</td>\n",
       "      <td>0</td>\n",
       "    </tr>\n",
       "    <tr>\n",
       "      <th>00025</th>\n",
       "      <td>0</td>\n",
       "      <td>1</td>\n",
       "    </tr>\n",
       "    <tr>\n",
       "      <th>00044</th>\n",
       "      <td>0</td>\n",
       "      <td>0</td>\n",
       "    </tr>\n",
       "    <tr>\n",
       "      <th>0005</th>\n",
       "      <td>11</td>\n",
       "      <td>74</td>\n",
       "    </tr>\n",
       "    <tr>\n",
       "      <th>00063426</th>\n",
       "      <td>1</td>\n",
       "      <td>0</td>\n",
       "    </tr>\n",
       "    <tr>\n",
       "      <th>000hour</th>\n",
       "      <td>0</td>\n",
       "      <td>0</td>\n",
       "    </tr>\n",
       "    <tr>\n",
       "      <th>001</th>\n",
       "      <td>6</td>\n",
       "      <td>2</td>\n",
       "    </tr>\n",
       "    <tr>\n",
       "      <th>0010</th>\n",
       "      <td>0</td>\n",
       "      <td>36</td>\n",
       "    </tr>\n",
       "    <tr>\n",
       "      <th>00110</th>\n",
       "      <td>0</td>\n",
       "      <td>1</td>\n",
       "    </tr>\n",
       "    <tr>\n",
       "      <th>002</th>\n",
       "      <td>5</td>\n",
       "      <td>0</td>\n",
       "    </tr>\n",
       "    <tr>\n",
       "      <th>0025</th>\n",
       "      <td>0</td>\n",
       "      <td>0</td>\n",
       "    </tr>\n",
       "    <tr>\n",
       "      <th>003</th>\n",
       "      <td>2</td>\n",
       "      <td>1</td>\n",
       "    </tr>\n",
       "    <tr>\n",
       "      <th>003v2</th>\n",
       "      <td>1</td>\n",
       "      <td>0</td>\n",
       "    </tr>\n",
       "    <tr>\n",
       "      <th>004</th>\n",
       "      <td>3</td>\n",
       "      <td>0</td>\n",
       "    </tr>\n",
       "    <tr>\n",
       "      <th>005</th>\n",
       "      <td>2</td>\n",
       "      <td>0</td>\n",
       "    </tr>\n",
       "    <tr>\n",
       "      <th>006</th>\n",
       "      <td>5</td>\n",
       "      <td>1</td>\n",
       "    </tr>\n",
       "    <tr>\n",
       "      <th>007</th>\n",
       "      <td>7</td>\n",
       "      <td>0</td>\n",
       "    </tr>\n",
       "    <tr>\n",
       "      <th>008</th>\n",
       "      <td>4</td>\n",
       "      <td>0</td>\n",
       "    </tr>\n",
       "    <tr>\n",
       "      <th>009</th>\n",
       "      <td>1</td>\n",
       "      <td>0</td>\n",
       "    </tr>\n",
       "    <tr>\n",
       "      <th>00playonline</th>\n",
       "      <td>4</td>\n",
       "      <td>2</td>\n",
       "    </tr>\n",
       "    <tr>\n",
       "      <th>00s</th>\n",
       "      <td>2</td>\n",
       "      <td>4</td>\n",
       "    </tr>\n",
       "    <tr>\n",
       "      <th>...</th>\n",
       "      <td>...</td>\n",
       "      <td>...</td>\n",
       "    </tr>\n",
       "    <tr>\n",
       "      <th>zx</th>\n",
       "      <td>2</td>\n",
       "      <td>1</td>\n",
       "    </tr>\n",
       "    <tr>\n",
       "      <th>zxqueb</th>\n",
       "      <td>0</td>\n",
       "      <td>0</td>\n",
       "    </tr>\n",
       "    <tr>\n",
       "      <th>zylon</th>\n",
       "      <td>1</td>\n",
       "      <td>2</td>\n",
       "    </tr>\n",
       "    <tr>\n",
       "      <th>zylstras</th>\n",
       "      <td>1</td>\n",
       "      <td>0</td>\n",
       "    </tr>\n",
       "    <tr>\n",
       "      <th>zynga</th>\n",
       "      <td>1</td>\n",
       "      <td>0</td>\n",
       "    </tr>\n",
       "    <tr>\n",
       "      <th>zz</th>\n",
       "      <td>1</td>\n",
       "      <td>0</td>\n",
       "    </tr>\n",
       "    <tr>\n",
       "      <th>zzz</th>\n",
       "      <td>0</td>\n",
       "      <td>5</td>\n",
       "    </tr>\n",
       "    <tr>\n",
       "      <th>zzzombies</th>\n",
       "      <td>0</td>\n",
       "      <td>1</td>\n",
       "    </tr>\n",
       "    <tr>\n",
       "      <th>zzzpush</th>\n",
       "      <td>0</td>\n",
       "      <td>1</td>\n",
       "    </tr>\n",
       "    <tr>\n",
       "      <th>zzzz</th>\n",
       "      <td>1</td>\n",
       "      <td>5</td>\n",
       "    </tr>\n",
       "    <tr>\n",
       "      <th>zzzzmove</th>\n",
       "      <td>0</td>\n",
       "      <td>1</td>\n",
       "    </tr>\n",
       "    <tr>\n",
       "      <th>zzzzwake</th>\n",
       "      <td>0</td>\n",
       "      <td>1</td>\n",
       "    </tr>\n",
       "    <tr>\n",
       "      <th>zzzzz</th>\n",
       "      <td>1</td>\n",
       "      <td>6</td>\n",
       "    </tr>\n",
       "    <tr>\n",
       "      <th>zzzzzthis</th>\n",
       "      <td>0</td>\n",
       "      <td>1</td>\n",
       "    </tr>\n",
       "    <tr>\n",
       "      <th>zzzzzz</th>\n",
       "      <td>0</td>\n",
       "      <td>7</td>\n",
       "    </tr>\n",
       "    <tr>\n",
       "      <th>zzzzzzombies</th>\n",
       "      <td>0</td>\n",
       "      <td>1</td>\n",
       "    </tr>\n",
       "    <tr>\n",
       "      <th>zzzzzzz</th>\n",
       "      <td>0</td>\n",
       "      <td>6</td>\n",
       "    </tr>\n",
       "    <tr>\n",
       "      <th>zzzzzzzmaking</th>\n",
       "      <td>0</td>\n",
       "      <td>1</td>\n",
       "    </tr>\n",
       "    <tr>\n",
       "      <th>zzzzzzzz</th>\n",
       "      <td>0</td>\n",
       "      <td>3</td>\n",
       "    </tr>\n",
       "    <tr>\n",
       "      <th>zzzzzzzzz</th>\n",
       "      <td>0</td>\n",
       "      <td>5</td>\n",
       "    </tr>\n",
       "    <tr>\n",
       "      <th>zzzzzzzzzz</th>\n",
       "      <td>0</td>\n",
       "      <td>3</td>\n",
       "    </tr>\n",
       "    <tr>\n",
       "      <th>zzzzzzzzzzz</th>\n",
       "      <td>0</td>\n",
       "      <td>3</td>\n",
       "    </tr>\n",
       "    <tr>\n",
       "      <th>zzzzzzzzzzzz</th>\n",
       "      <td>0</td>\n",
       "      <td>2</td>\n",
       "    </tr>\n",
       "    <tr>\n",
       "      <th>zzzzzzzzzzzzz</th>\n",
       "      <td>0</td>\n",
       "      <td>1</td>\n",
       "    </tr>\n",
       "    <tr>\n",
       "      <th>zzzzzzzzzzzzzz</th>\n",
       "      <td>0</td>\n",
       "      <td>1</td>\n",
       "    </tr>\n",
       "    <tr>\n",
       "      <th>zzzzzzzzzzzzzzooloretto</th>\n",
       "      <td>0</td>\n",
       "      <td>1</td>\n",
       "    </tr>\n",
       "    <tr>\n",
       "      <th>zzzzzzzzzzzzzzzz</th>\n",
       "      <td>0</td>\n",
       "      <td>1</td>\n",
       "    </tr>\n",
       "    <tr>\n",
       "      <th>zzzzzzzzzzzzzzzzz</th>\n",
       "      <td>0</td>\n",
       "      <td>0</td>\n",
       "    </tr>\n",
       "    <tr>\n",
       "      <th>zzzzzzzzzzzzzzzzzzzzzz</th>\n",
       "      <td>0</td>\n",
       "      <td>1</td>\n",
       "    </tr>\n",
       "    <tr>\n",
       "      <th>zzzzzzzzzzzzzzzzzzzzzzzzz</th>\n",
       "      <td>0</td>\n",
       "      <td>1</td>\n",
       "    </tr>\n",
       "  </tbody>\n",
       "</table>\n",
       "<p>144995 rows × 2 columns</p>\n",
       "</div>"
      ],
      "text/plain": [
       "                                                    positive  negative\n",
       "0                                                        649       339\n",
       "00                                                        21         7\n",
       "000                                                        8         0\n",
       "0000                                                       1         0\n",
       "00000000000000000000000000000000000000000000000...         0         1\n",
       "00000001                                                   0         1\n",
       "0001                                                       2         0\n",
       "00010                                                      0         1\n",
       "000123                                                     1         0\n",
       "0002                                                       1         0\n",
       "00025                                                      0         1\n",
       "00044                                                      0         0\n",
       "0005                                                      11        74\n",
       "00063426                                                   1         0\n",
       "000hour                                                    0         0\n",
       "001                                                        6         2\n",
       "0010                                                       0        36\n",
       "00110                                                      0         1\n",
       "002                                                        5         0\n",
       "0025                                                       0         0\n",
       "003                                                        2         1\n",
       "003v2                                                      1         0\n",
       "004                                                        3         0\n",
       "005                                                        2         0\n",
       "006                                                        5         1\n",
       "007                                                        7         0\n",
       "008                                                        4         0\n",
       "009                                                        1         0\n",
       "00playonline                                               4         2\n",
       "00s                                                        2         4\n",
       "...                                                      ...       ...\n",
       "zx                                                         2         1\n",
       "zxqueb                                                     0         0\n",
       "zylon                                                      1         2\n",
       "zylstras                                                   1         0\n",
       "zynga                                                      1         0\n",
       "zz                                                         1         0\n",
       "zzz                                                        0         5\n",
       "zzzombies                                                  0         1\n",
       "zzzpush                                                    0         1\n",
       "zzzz                                                       1         5\n",
       "zzzzmove                                                   0         1\n",
       "zzzzwake                                                   0         1\n",
       "zzzzz                                                      1         6\n",
       "zzzzzthis                                                  0         1\n",
       "zzzzzz                                                     0         7\n",
       "zzzzzzombies                                               0         1\n",
       "zzzzzzz                                                    0         6\n",
       "zzzzzzzmaking                                              0         1\n",
       "zzzzzzzz                                                   0         3\n",
       "zzzzzzzzz                                                  0         5\n",
       "zzzzzzzzzz                                                 0         3\n",
       "zzzzzzzzzzz                                                0         3\n",
       "zzzzzzzzzzzz                                               0         2\n",
       "zzzzzzzzzzzzz                                              0         1\n",
       "zzzzzzzzzzzzzz                                             0         1\n",
       "zzzzzzzzzzzzzzooloretto                                    0         1\n",
       "zzzzzzzzzzzzzzzz                                           0         1\n",
       "zzzzzzzzzzzzzzzzz                                          0         0\n",
       "zzzzzzzzzzzzzzzzzzzzzz                                     0         1\n",
       "zzzzzzzzzzzzzzzzzzzzzzzzz                                  0         1\n",
       "\n",
       "[144995 rows x 2 columns]"
      ]
     },
     "execution_count": 32,
     "metadata": {},
     "output_type": "execute_result"
    }
   ],
   "source": [
    "pos_occur_dict = {}\n",
    "neg_occur_dict = {}\n",
    "for word in lex:\n",
    "    pos_occur_dict[word] = 0\n",
    "    neg_occur_dict[word] = 0\n",
    "    \n",
    "comments_pos_split = comments_pos.str.split()\n",
    "comments_neg_split = comments_neg.str.split()\n",
    "for comment in comments_pos_split:\n",
    "    for word in comment:\n",
    "        try:\n",
    "            pos_occur_dict[word] += 1\n",
    "        except KeyError:\n",
    "            pos_occur_dict[word] = 1\n",
    "for comment in comments_neg_split:\n",
    "    for word in comment:\n",
    "        try:\n",
    "            neg_occur_dict[word] += 1\n",
    "        except KeyError:\n",
    "            neg_occur_dict[word] = 1\n",
    "\n",
    "occur_data = {'positive':[], 'negative':[]}\n",
    "for word in lex:\n",
    "    occur_data['positive'].append(pos_occur_dict.pop(word))\n",
    "    occur_data['negative'].append(neg_occur_dict.pop(word))\n",
    "occur_data = pd.DataFrame(data=occur_data, index=lex)\n",
    "occur_data"
   ]
  },
  {
   "cell_type": "code",
   "execution_count": 33,
   "metadata": {},
   "outputs": [
    {
     "data": {
      "text/plain": [
       "count    144995.000000\n",
       "mean        132.149847\n",
       "std        4676.141506\n",
       "min           0.000000\n",
       "25%           1.000000\n",
       "50%           1.000000\n",
       "75%           3.000000\n",
       "max      894020.000000\n",
       "dtype: float64"
      ]
     },
     "execution_count": 33,
     "metadata": {},
     "output_type": "execute_result"
    }
   ],
   "source": [
    "(occur_data['positive'] + occur_data['negative']).describe()"
   ]
  },
  {
   "cell_type": "markdown",
   "metadata": {},
   "source": [
    "We can see that there are a lot of words that are very rare. Since some of these might occur in more positive than negative comments, or vice versa, they could receive large-magnitude log-odds. They would then be included in our keywords, despite not being useful because they don't occur in many comments; even worse, the log-odds would be more susceptible to noise due to the small sample size. To avoid this, we first filter out all but the most common 10% of the lexicon."
   ]
  },
  {
   "cell_type": "code",
   "execution_count": 34,
   "metadata": {},
   "outputs": [
    {
     "data": {
      "text/html": [
       "<div>\n",
       "<style scoped>\n",
       "    .dataframe tbody tr th:only-of-type {\n",
       "        vertical-align: middle;\n",
       "    }\n",
       "\n",
       "    .dataframe tbody tr th {\n",
       "        vertical-align: top;\n",
       "    }\n",
       "\n",
       "    .dataframe thead th {\n",
       "        text-align: right;\n",
       "    }\n",
       "</style>\n",
       "<table border=\"1\" class=\"dataframe\">\n",
       "  <thead>\n",
       "    <tr style=\"text-align: right;\">\n",
       "      <th></th>\n",
       "      <th>positive</th>\n",
       "      <th>negative</th>\n",
       "    </tr>\n",
       "  </thead>\n",
       "  <tbody>\n",
       "    <tr>\n",
       "      <th>0</th>\n",
       "      <td>649</td>\n",
       "      <td>339</td>\n",
       "    </tr>\n",
       "    <tr>\n",
       "      <th>01</th>\n",
       "      <td>260</td>\n",
       "      <td>184</td>\n",
       "    </tr>\n",
       "    <tr>\n",
       "      <th>02</th>\n",
       "      <td>151</td>\n",
       "      <td>156</td>\n",
       "    </tr>\n",
       "    <tr>\n",
       "      <th>03</th>\n",
       "      <td>159</td>\n",
       "      <td>153</td>\n",
       "    </tr>\n",
       "    <tr>\n",
       "      <th>04</th>\n",
       "      <td>143</td>\n",
       "      <td>140</td>\n",
       "    </tr>\n",
       "    <tr>\n",
       "      <th>05</th>\n",
       "      <td>216</td>\n",
       "      <td>210</td>\n",
       "    </tr>\n",
       "    <tr>\n",
       "      <th>06</th>\n",
       "      <td>193</td>\n",
       "      <td>138</td>\n",
       "    </tr>\n",
       "    <tr>\n",
       "      <th>07</th>\n",
       "      <td>252</td>\n",
       "      <td>168</td>\n",
       "    </tr>\n",
       "    <tr>\n",
       "      <th>08</th>\n",
       "      <td>283</td>\n",
       "      <td>177</td>\n",
       "    </tr>\n",
       "    <tr>\n",
       "      <th>09</th>\n",
       "      <td>293</td>\n",
       "      <td>190</td>\n",
       "    </tr>\n",
       "  </tbody>\n",
       "</table>\n",
       "</div>"
      ],
      "text/plain": [
       "    positive  negative\n",
       "0        649       339\n",
       "01       260       184\n",
       "02       151       156\n",
       "03       159       153\n",
       "04       143       140\n",
       "05       216       210\n",
       "06       193       138\n",
       "07       252       168\n",
       "08       283       177\n",
       "09       293       190"
      ]
     },
     "execution_count": 34,
     "metadata": {},
     "output_type": "execute_result"
    }
   ],
   "source": [
    "# take words that occur at least twice in both positive and negative comments\n",
    "freq_occur_dat = occur_data.loc[(occur_data['positive'] >= 1) & (occur_data['negative'] >= 1)]\n",
    "### take top 10% most frequent words only\n",
    "upper_percentile = np.percentile(freq_occur_dat['positive'] + freq_occur_dat['negative'], 90.)\n",
    "freq_occur_dat = freq_occur_dat.loc[freq_occur_dat['positive'] + freq_occur_dat['negative'] > upper_percentile]\n",
    "freq_occur_dat.head(10)"
   ]
  },
  {
   "cell_type": "markdown",
   "metadata": {},
   "source": [
    "We now find the relative log-odds for the lexicon. Given a word, the log-odds that an arbitrary positive comment contains that word is\n",
    "$$P_1 = \\log\\left( \\frac{p_1}{1 - p_1} \\right).$$\n",
    "Here, $p_1$ is the probability that the word occurs in the positive comment, given by\n",
    "$$p_1 = \\frac{n_1}{N_1},$$\n",
    "where $n_1$ is the number of positive comments the word appears in and $N_1$ is the total number of positive comments. Similarly, for the log-odds $P_2$ that the word occurs in a randomly selected negative comment, we have\n",
    "$$P_2 = \\log\\left( \\frac{p_2}{1 - p_2} \\right).$$\n",
    "The relative log-odds for the word is then defined as\n",
    "$$\\log\\left( \\frac{p_1\\,/\\,(1-p_1)}{p_2\\,/\\,(1-p_2)} \\right) = \\log\\left( \\frac{p_1}{1 - p_1} \\right) - \\log\\left( \\frac{p_2}{1 - p_2} \\right) = P_1 - P_2.$$"
   ]
  },
  {
   "cell_type": "code",
   "execution_count": 35,
   "metadata": {
    "scrolled": true
   },
   "outputs": [
    {
     "name": "stdout",
     "output_type": "stream",
     "text": [
      "perfection\n",
      "2.5034653450794737\n",
      "\n",
      "masterpiece\n",
      "2.2223725058914434\n",
      "\n",
      "favourites\n",
      "2.1796546229104203\n",
      "\n",
      "1010\n",
      "2.0103825663502732\n",
      "\n",
      "85\n",
      "1.9426480914588833\n",
      "\n",
      "fantastic\n",
      "1.9022033398549612\n",
      "\n",
      "starstarstarstarstar\n",
      "1.8681185668769844\n",
      "\n",
      "superb\n",
      "1.8525690425939256\n",
      "\n",
      "810\n",
      "1.8162438100403921\n",
      "\n",
      "finest\n",
      "1.8063859588375362\n",
      "\n",
      "outstanding\n",
      "1.7758643189959855\n",
      "\n",
      "brilliantly\n",
      "1.7666859161255957\n",
      "\n",
      "favorites\n",
      "1.7352362200252829\n",
      "\n",
      "addicted\n",
      "1.7305196333753656\n",
      "\n",
      "mayday\n",
      "1.7185973541208552\n",
      "\n",
      "910\n",
      "1.7108547358100035\n",
      "\n",
      "brilliant\n",
      "1.6874585387968697\n",
      "\n",
      "excellent\n",
      "1.6655848471248746\n",
      "\n",
      "addicting\n",
      "1.661190374578947\n",
      "\n",
      "premium\n",
      "1.6427389746386787\n",
      "\n",
      "hooked\n",
      "1.627010239696161\n",
      "\n",
      "amazing\n",
      "1.6186885929333563\n",
      "\n",
      "incredible\n",
      "1.611469328744592\n",
      "\n",
      "terrorist\n",
      "1.6068330034928548\n",
      "\n",
      "addictive\n",
      "1.5948133156341395\n",
      "\n",
      "awesome\n",
      "1.5895795563061292\n",
      "\n",
      "wonderful\n",
      "1.5862371556638681\n",
      "\n",
      "brink\n",
      "1.5834725656606503\n",
      "\n",
      "wonderfully\n",
      "1.5724300359003367\n",
      "\n",
      "genius\n",
      "1.5723172968401675\n",
      "\n",
      "terrific\n",
      "1.5723172968401675\n",
      "\n",
      "favourite\n",
      "1.5463899937436052\n",
      "\n",
      "strain\n",
      "1.5195694865043539\n",
      "\n",
      "deceptively\n",
      "1.5073413324145326\n",
      "\n",
      "phenomenal\n",
      "1.4988364892438861\n",
      "\n",
      "perfect\n",
      "1.4525434479312858\n",
      "\n",
      "favorite\n",
      "1.4502820665499434\n",
      "\n",
      "tuscany\n",
      "1.4305414750972254\n",
      "\n",
      "promo\n",
      "1.4286088731337632\n",
      "\n",
      "amazingly\n",
      "1.4261672351041321\n",
      "\n",
      "engrossing\n",
      "1.4108448045222737\n",
      "\n",
      "gem\n",
      "1.4096030172500171\n",
      "\n",
      "promos\n",
      "1.4092494933256425\n",
      "\n",
      "prosperity\n",
      "1.4026755505525976\n",
      "\n",
      "rocks\n",
      "1.3823902489418973\n",
      "\n",
      "toes\n",
      "1.3791567059353733\n",
      "\n",
      "intimidating\n",
      "1.3735032824793718\n",
      "\n",
      "1910\n",
      "1.3730392099420792\n",
      "\n",
      "95\n",
      "1.357056770180213\n",
      "\n",
      "9\n",
      "1.3550550981174094\n",
      "\n",
      "------------------------------------------------------------\n",
      "\n",
      "ugh\n",
      "-3.3120385359787337\n",
      "\n",
      "uninteresting\n",
      "-2.7461230543384065\n",
      "\n",
      "overrated\n",
      "-2.5835349693920726\n",
      "\n",
      "meh\n",
      "-2.421501540868512\n",
      "\n",
      "pointless\n",
      "-2.2284885574651687\n",
      "\n",
      "fluxx\n",
      "-2.153847947241739\n",
      "\n",
      "tea\n",
      "-2.100920419883926\n",
      "\n",
      "boredom\n",
      "-2.088150138957733\n",
      "\n",
      "boring\n",
      "-2.0567125575868563\n",
      "\n",
      "mindless\n",
      "-2.0403904782186935\n",
      "\n",
      "uno\n",
      "-2.0303168739993556\n",
      "\n",
      "alright\n",
      "-2.0057930580867582\n",
      "\n",
      "excite\n",
      "-1.9895944072829197\n",
      "\n",
      "mediocre\n",
      "-1.9602390639461706\n",
      "\n",
      "wears\n",
      "-1.9392675281470346\n",
      "\n",
      "diversion\n",
      "-1.9101135468528314\n",
      "\n",
      "dull\n",
      "-1.8748020178100058\n",
      "\n",
      "drags\n",
      "-1.8667811694100669\n",
      "\n",
      "underwhelmed\n",
      "-1.8648222206715506\n",
      "\n",
      "tedious\n",
      "-1.8241190510814054\n",
      "\n",
      "disappointment\n",
      "-1.813712464094369\n",
      "\n",
      "cup\n",
      "-1.8132159213429846\n",
      "\n",
      "jokes\n",
      "-1.7957119491942164\n",
      "\n",
      "unsatisfying\n",
      "-1.7857606210060677\n",
      "\n",
      "arbitrary\n",
      "-1.7616579695386276\n",
      "\n",
      "meaningless\n",
      "-1.7432609175939575\n",
      "\n",
      "munchkin\n",
      "-1.7396025576517706\n",
      "\n",
      "tastes\n",
      "-1.7254755940145747\n",
      "\n",
      "okay\n",
      "-1.717180875761814\n",
      "\n",
      "joke\n",
      "-1.7165708533207944\n",
      "\n",
      "ok\n",
      "-1.7085569339960798\n",
      "\n",
      "slog\n",
      "-1.6691750096733111\n",
      "\n",
      "disappointing\n",
      "-1.6372402627191196\n",
      "\n",
      "dated\n",
      "-1.6296221538797209\n",
      "\n",
      "lame\n",
      "-1.6204668992891857\n",
      "\n",
      "i\n",
      "-1.613699955906373\n",
      "\n",
      "novelty\n",
      "-1.6024658246534358\n",
      "\n",
      "checkers\n",
      "-1.596846178230738\n",
      "\n",
      "bland\n",
      "-1.5532752886753398\n",
      "\n",
      "mildly\n",
      "-1.5503186720028088\n",
      "\n",
      "dragged\n",
      "-1.5490323329409028\n",
      "\n",
      "kid\n",
      "-1.5300841282485118\n",
      "\n",
      "worst\n",
      "-1.529948878433541\n",
      "\n",
      "amusing\n",
      "-1.5235175848048481\n",
      "\n",
      "humanity\n",
      "-1.522111307900878\n",
      "\n",
      "flat\n",
      "-1.504668234033697\n",
      "\n",
      "worse\n",
      "-1.4994151365892714\n",
      "\n",
      "repetitive\n",
      "-1.49643371168463\n",
      "\n",
      "activity\n",
      "-1.4893168839363193\n",
      "\n",
      "shallow\n",
      "-1.4584170227540003\n",
      "\n"
     ]
    }
   ],
   "source": [
    "### Find log-odds for words occuring in positive/negative comments\n",
    "pos_log_odds = freq_occur_dat['positive'] / comments_pos.shape[0]\n",
    "neg_log_odds = freq_occur_dat['negative'] / comments_neg.shape[0]\n",
    "pos_log_odds = (pos_log_odds / (1 - pos_log_odds)).apply(np.log)\n",
    "neg_log_odds = (neg_log_odds / (1 - neg_log_odds)).apply(np.log)\n",
    "\n",
    "### Find relative log-odds that words will be in positive comments\n",
    "### rather than negative\n",
    "compare_log_odds = pos_log_odds - neg_log_odds\n",
    "compare_log_odds = compare_log_odds.dropna()\n",
    "compare_log_odds = compare_log_odds.sort_values(ascending=False)\n",
    "\n",
    "### Print top and bottom 50 words by log-odds\n",
    "for ind in compare_log_odds.head(50).index:\n",
    "    print(ind + '\\n' + str(compare_log_odds[ind]), end='\\n\\n')\n",
    "print(60*'-', end='\\n\\n')\n",
    "for ind in compare_log_odds.sort_values().head(50).index:\n",
    "    print(ind + '\\n' + str(compare_log_odds[ind]), end='\\n\\n')"
   ]
  },
  {
   "cell_type": "markdown",
   "metadata": {},
   "source": [
    "Looking over these words—the most positive of which contain words like \"masterpiece\" or \"fantastic\" and the most negative featuring words like \"uninteresting\", \"overrated\", and \"meh\"—it seems at first glance that the log-odds selection process worked well. We visualize the log-odds across our lexicon below."
   ]
  },
  {
   "cell_type": "code",
   "execution_count": 36,
   "metadata": {
    "scrolled": true
   },
   "outputs": [
    {
     "data": {
      "image/png": "[encoded data removed]",
      "text/plain": [
       "<Figure size 432x288 with 1 Axes>"
      ]
     },
     "metadata": {
      "needs_background": "light"
     },
     "output_type": "display_data"
    }
   ],
   "source": [
    "plt.title('Log-Odds for Word Occurence in Positive vs. Negative Reviews')\n",
    "plt.xlabel('word rank')\n",
    "plt.ylabel('log-odds')\n",
    "plt.axvline(x=500, c='k')\n",
    "plt.axvline(x=(freq_occur_dat.shape[0] - 500), c='k')\n",
    "pd.Series(data=compare_log_odds.sort_values().tolist(), index=range(compare_log_odds.shape[0])).plot();"
   ]
  },
  {
   "cell_type": "markdown",
   "metadata": {},
   "source": [
    "The black lines show our cutoffs: we will take the 500 most positive and 500 most negative words as our keywords."
   ]
  },
  {
   "cell_type": "code",
   "execution_count": 37,
   "metadata": {},
   "outputs": [],
   "source": [
    "keywords = compare_log_odds.head(500).index.tolist() \n",
    "keywords += compare_log_odds.tail(500).index.tolist()"
   ]
  },
  {
   "cell_type": "markdown",
   "metadata": {},
   "source": [
    "In order to obtain our input features, for each comment we need to count how many times the keywords appear in it. We then normalize by dividing by the total number of words in the comment, yielding an occurence rate of the keyword. This last part is an important preprocessing step that helps to account for comment length, so our model doesn't over- or under-rate very long comments (or, conversely, treat short comments as neutral)."
   ]
  },
  {
   "cell_type": "code",
   "execution_count": 38,
   "metadata": {
    "scrolled": true
   },
   "outputs": [],
   "source": [
    "word_counts = {}\n",
    "for word in keywords:\n",
    "    word_counts[word] = np.zeros(train_df.shape[0], dtype=int)\n",
    "word_counts['comment_length'] = np.zeros(train_df.shape[0], dtype=int)\n",
    "for i, comment in enumerate(clean_comments(train_df['comment']).str.split()):\n",
    "    word_counts['comment_length'][i] = len(comment)\n",
    "    for word in comment:\n",
    "        if word in word_counts:\n",
    "            word_counts[word][i] += 1\n",
    "word_counts = pd.DataFrame(data=word_counts, index=train_df.index)\n",
    "word_counts['rating'] = train_df['rating']\n",
    "\n",
    "train_input = word_counts.iloc[:,:-2].apply(lambda col: col / word_counts.iloc[:,-2], \n",
    "                                            axis=0\n",
    "                                           )\n",
    "train_input = train_input.dropna(axis=0)\n",
    "train_target = word_counts.loc[train_input.index].iloc[:,-1]\n",
    "train_target = (2 * train_target).round() / 2\n",
    "\n",
    "del word_counts"
   ]
  },
  {
   "cell_type": "code",
   "execution_count": 39,
   "metadata": {},
   "outputs": [],
   "source": [
    "word_counts_test = {}\n",
    "for word in keywords:\n",
    "    word_counts_test[word] = np.zeros(test_df_2.shape[0], dtype=int)\n",
    "word_counts_test['comment_length'] = np.zeros(test_df_2.shape[0], dtype=int)\n",
    "for i, comment in enumerate(clean_comments(test_df_2['comment']).str.split()):\n",
    "    word_counts_test['comment_length'][i] = len(comment)\n",
    "    for word in comment:\n",
    "        if word in word_counts_test:\n",
    "            word_counts_test[word][i] += 1\n",
    "word_counts_test = pd.DataFrame(data=word_counts_test, index=test_df_2.index)\n",
    "word_counts_test['rating'] = test_df_2['rating']\n",
    "\n",
    "test_input = word_counts_test.iloc[:,:-2].apply(lambda col: col / word_counts_test.iloc[:,-2], \n",
    "                                            axis=0\n",
    "                                           ).dropna(axis=0)\n",
    "test_target = word_counts_test.loc[test_input.index].iloc[:,-1]\n",
    "test_target = (2 * test_target).round() / 2\n",
    "\n",
    "del word_counts_test"
   ]
  },
  {
   "cell_type": "markdown",
   "metadata": {},
   "source": [
    "### Linear Regression Model"
   ]
  },
  {
   "cell_type": "markdown",
   "metadata": {},
   "source": [
    "We now train a simple linear regression model."
   ]
  },
  {
   "cell_type": "code",
   "execution_count": 40,
   "metadata": {},
   "outputs": [],
   "source": [
    "refined_model = linear_model.LinearRegression()"
   ]
  },
  {
   "cell_type": "code",
   "execution_count": 41,
   "metadata": {},
   "outputs": [
    {
     "data": {
      "text/plain": [
       "LinearRegression(copy_X=True, fit_intercept=True, n_jobs=1, normalize=False)"
      ]
     },
     "execution_count": 41,
     "metadata": {},
     "output_type": "execute_result"
    }
   ],
   "source": [
    "refined_model.fit(train_input, train_target)"
   ]
  },
  {
   "cell_type": "code",
   "execution_count": 42,
   "metadata": {},
   "outputs": [],
   "source": [
    "predictions = np.clip(refined_model.predict(test_input), 1, 10)"
   ]
  },
  {
   "cell_type": "code",
   "execution_count": 43,
   "metadata": {},
   "outputs": [
    {
     "name": "stdout",
     "output_type": "stream",
     "text": [
      "0.229041909795336\n"
     ]
    },
    {
     "data": {
      "text/plain": [
       "1.4922588952295492"
      ]
     },
     "execution_count": 43,
     "metadata": {},
     "output_type": "execute_result"
    }
   ],
   "source": [
    "print(refined_model.score(test_input, test_target)) #R^2 score\n",
    "np.sqrt(mean_squared_error(test_target, predictions)) #RMSE score"
   ]
  },
  {
   "cell_type": "code",
   "execution_count": 44,
   "metadata": {
    "scrolled": true
   },
   "outputs": [],
   "source": [
    "line_coeffs = np.polyfit(test_target, predictions, 1)"
   ]
  },
  {
   "cell_type": "code",
   "execution_count": 45,
   "metadata": {},
   "outputs": [
    {
     "data": {
      "image/png": "[encoded data removed]",
      "text/plain": [
       "<Figure size 864x432 with 1 Axes>"
      ]
     },
     "metadata": {
      "needs_background": "light"
     },
     "output_type": "display_data"
    }
   ],
   "source": [
    "plt.figure(figsize=(12, 6));\n",
    "plt.scatter(test_target, predictions, s=64, marker='o', facecolors='none', edgecolors='b', linewidths=1.);\n",
    "plt.plot(np.arange(1, 10.1, 0.1), [line_coeffs[0]*x + line_coeffs[1] for x in np.arange(1, 10.1, 0.1)], c='r');\n",
    "plt.title('Predicted vs. Actual Rating (Linear Model)');\n",
    "plt.xlabel('Actual Rating');\n",
    "plt.xlabel('Predicted Rating');"
   ]
  },
  {
   "cell_type": "markdown",
   "metadata": {},
   "source": [
    "Because the ratings tend to cluster in multiples of 0.5, a clear way to visualize our model's performance is to round true ratings to the nearest 0.5 and make a box plot of the predicted scores for each of the ratings. "
   ]
  },
  {
   "cell_type": "code",
   "execution_count": 46,
   "metadata": {},
   "outputs": [
    {
     "data": {
      "image/png": "[encoded data removed]",
      "text/plain": [
       "<Figure size 864x576 with 1 Axes>"
      ]
     },
     "metadata": {
      "needs_background": "light"
     },
     "output_type": "display_data"
    }
   ],
   "source": [
    "pair_dict = {}\n",
    "for x in np.arange(1., 10.5, 0.5):\n",
    "    pair_dict[x] = predictions[test_target == x]\n",
    "\n",
    "plt.figure(figsize=(12, 8));\n",
    "plt.boxplot(pair_dict.values());\n",
    "xtick_locs = plt.xticks()[0];\n",
    "plt.xticks(xtick_locs, pair_dict.keys());\n",
    "plt.xlabel('Actual Rating');\n",
    "plt.ylabel('Predicted Rating');\n",
    "plt.title('Box Plot of Predicted Ratings by Actual Rating (Linear Model)');"
   ]
  },
  {
   "cell_type": "code",
   "execution_count": 47,
   "metadata": {},
   "outputs": [
    {
     "data": {
      "image/png": "[encoded data removed]",
      "text/plain": [
       "<Figure size 648x432 with 1 Axes>"
      ]
     },
     "metadata": {
      "needs_background": "light"
     },
     "output_type": "display_data"
    }
   ],
   "source": [
    "plt.figure(figsize=(9, 6));\n",
    "plt.scatter(test_input.sum(axis=1), (predictions - test_target)**2, \n",
    "            marker='o', facecolors='none', edgecolors='b', linewidths=1.\n",
    "           );\n",
    "plt.title('Squared Error vs. Proportion of Keywords in Comment (Linear Model)');\n",
    "plt.xlabel('Number of Keywords per Word in Comment');\n",
    "plt.ylabel('Squared Error');"
   ]
  },
  {
   "cell_type": "markdown",
   "metadata": {},
   "source": [
    "### Feedforward Neural Network Model"
   ]
  },
  {
   "cell_type": "markdown",
   "metadata": {},
   "source": [
    "One problem with a linear model is that it is not able to capture more complex relationships between the input features, such as the interaction that happens when keywords co-occur. A neural network is better able to use those relationships to predict the rating, so we will train a feedforward neural network (multilayer perceptron) with two hidden layers."
   ]
  },
  {
   "cell_type": "code",
   "execution_count": 48,
   "metadata": {},
   "outputs": [],
   "source": [
    "mlp_model = neural_network.MLPRegressor(hidden_layer_sizes=(256, 256), activation='tanh', random_state=42)"
   ]
  },
  {
   "cell_type": "code",
   "execution_count": 49,
   "metadata": {},
   "outputs": [],
   "source": [
    "mlp_model.fit(train_input, train_target) #train model\n",
    "\n",
    "### save serialized model\n",
    "with open('data/mlp_model.pkl', 'wb') as file:\n",
    "    pickle.dump(mlp_model, file)"
   ]
  },
  {
   "cell_type": "code",
   "execution_count": 50,
   "metadata": {},
   "outputs": [],
   "source": [
    "mlp_predictions = np.clip(mlp_model.predict(test_input), 1, 10)"
   ]
  },
  {
   "cell_type": "code",
   "execution_count": 51,
   "metadata": {},
   "outputs": [
    {
     "name": "stdout",
     "output_type": "stream",
     "text": [
      "R^2:  0.31117569444143933\n",
      "RMSE: 1.4155525611812074\n"
     ]
    }
   ],
   "source": [
    "print('R^2:  ' + str(mlp_model.score(test_input, test_target))) #R^2 score\n",
    "print('RMSE: ' + str(np.sqrt(mean_squared_error(test_target, mlp_predictions)))) #RMSE score"
   ]
  },
  {
   "cell_type": "code",
   "execution_count": 52,
   "metadata": {
    "scrolled": true
   },
   "outputs": [],
   "source": [
    "mlp_line_coeffs = np.polyfit(test_target, predictions, 1)"
   ]
  },
  {
   "cell_type": "code",
   "execution_count": 53,
   "metadata": {},
   "outputs": [
    {
     "data": {
      "image/png": "[encoded data removed]",
      "text/plain": [
       "<Figure size 864x576 with 1 Axes>"
      ]
     },
     "metadata": {
      "needs_background": "light"
     },
     "output_type": "display_data"
    }
   ],
   "source": [
    "mlp_pair_dict = {}\n",
    "for x in np.arange(1., 10.5, 0.5):\n",
    "    mlp_pair_dict[x] = mlp_predictions[test_target == x]\n",
    "\n",
    "plt.figure(figsize=(12, 8));\n",
    "plt.boxplot(mlp_pair_dict.values());\n",
    "xtick_locs = plt.xticks()[0];\n",
    "plt.xticks(xtick_locs, mlp_pair_dict.keys());\n",
    "plt.xlabel('Actual Rating');\n",
    "plt.ylabel('Predicted Rating');\n",
    "plt.title('Box Plot of Predicted Ratings by Actual Rating (FNN Model)');"
   ]
  },
  {
   "cell_type": "code",
   "execution_count": 54,
   "metadata": {},
   "outputs": [
    {
     "data": {
      "image/png": "[encoded data removed]",
      "text/plain": [
       "<Figure size 648x432 with 1 Axes>"
      ]
     },
     "metadata": {
      "needs_background": "light"
     },
     "output_type": "display_data"
    }
   ],
   "source": [
    "plt.figure(figsize=(9, 6));\n",
    "plt.scatter(test_input.sum(axis=1), (mlp_predictions - test_target)**2, \n",
    "            marker='o', facecolors='none', edgecolors='b', linewidths=1.\n",
    "           );\n",
    "plt.title('Square Error vs. Proportion of Keywords in Comment (FNN Model)');\n",
    "plt.xlabel('Number of Keywords per Word in Comment');\n",
    "plt.ylabel('Squared Error');"
   ]
  },
  {
   "cell_type": "code",
   "execution_count": null,
   "metadata": {},
   "outputs": [],
   "source": []
  }
 ],
 "metadata": {
  "kernelspec": {
   "display_name": "Python 3",
   "language": "python",
   "name": "python3"
  },
  "language_info": {
   "codemirror_mode": {
    "name": "ipython",
    "version": 3
   },
   "file_extension": ".py",
   "mimetype": "text/x-python",
   "name": "python",
   "nbconvert_exporter": "python",
   "pygments_lexer": "ipython3",
   "version": "3.6.6"
  },
  "latex_envs": {
   "LaTeX_envs_menu_present": true,
   "autocomplete": true,
   "bibliofile": "biblio.bib",
   "cite_by": "apalike",
   "current_citInitial": 1,
   "eqLabelWithNumbers": true,
   "eqNumInitial": 1,
   "hotkeys": {
    "equation": "Ctrl-E",
    "itemize": "Ctrl-I"
   },
   "labels_anchors": false,
   "latex_user_defs": false,
   "report_style_numbering": false,
   "user_envs_cfg": false
  }
 },
 "nbformat": 4,
 "nbformat_minor": 2
}
